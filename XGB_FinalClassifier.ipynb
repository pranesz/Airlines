{
 "cells": [
  {
   "cell_type": "code",
   "execution_count": null,
   "id": "99c50e35-dfb8-483c-95f5-055c1ca42f53",
   "metadata": {},
   "outputs": [],
   "source": [
    "import pandas as pd\n",
    "import numpy as np\n",
    "import matplotlib.pyplot as plt\n",
    "import tensorflow\n",
    "from sklearn.model_selection import train_test_split\n",
    "from sklearn.linear_model import LinearRegression\n",
    "from sklearn.metrics import mean_squared_error, r2_score, mean_absolute_error\n",
    "import seaborn as sns\n",
    "import joblib"
   ]
  },
  {
   "cell_type": "code",
   "execution_count": null,
   "id": "063738f6-9778-4dc6-b705-e8321593be33",
   "metadata": {
    "scrolled": true
   },
   "outputs": [],
   "source": [
    "check = pd.read_csv('train.csv')"
   ]
  },
  {
   "cell_type": "code",
   "execution_count": null,
   "id": "49ddf8f1-0001-42c0-b968-752688cf03ee",
   "metadata": {},
   "outputs": [],
   "source": [
    "# remove the columns full of null values\n",
    "data = check.dropna(axis=1)"
   ]
  },
  {
   "cell_type": "code",
   "execution_count": null,
   "id": "1a95159b-1311-4650-9ce5-34283fd795f7",
   "metadata": {},
   "outputs": [],
   "source": [
    "data.isnull().sum()"
   ]
  },
  {
   "cell_type": "code",
   "execution_count": null,
   "id": "d3546a81-757d-481a-8099-9773ffbd94ef",
   "metadata": {},
   "outputs": [],
   "source": [
    "df_encoded = pd.get_dummies(data, columns=['Gender', 'Customer Type', 'Type of Travel', 'Class'], drop_first=True)"
   ]
  },
  {
   "cell_type": "code",
   "execution_count": null,
   "id": "0f6947fc-f170-4867-af5b-2d2d17b7d751",
   "metadata": {},
   "outputs": [],
   "source": [
    "df_encoded['satisfaction'] = df_encoded['satisfaction'].map({\n",
    "    'satisfied':1,\n",
    "    'neutral or dissatisfied':0\n",
    "})\n",
    "df_encoded['Gender_Male'] = df_encoded['Gender_Male'].astype(int)\n",
    "df_encoded['Customer Type_disloyal Customer'] = df_encoded['Customer Type_disloyal Customer'].astype(int)\n",
    "df_encoded['Type of Travel_Personal Travel'] = df_encoded['Type of Travel_Personal Travel'].astype(int)\n",
    "df_encoded['Class_Eco'] = df_encoded['Class_Eco'].astype(int)\n",
    "df_encoded['Class_Eco Plus'] = df_encoded['Class_Eco Plus'].astype(int)"
   ]
  },
  {
   "cell_type": "code",
   "execution_count": null,
   "id": "ba551ad1-2197-4523-9046-eebdab6920be",
   "metadata": {},
   "outputs": [],
   "source": [
    "from xgboost import XGBClassifier"
   ]
  },
  {
   "cell_type": "code",
   "execution_count": null,
   "id": "660e98eb-a7de-4ffe-8d6a-809a34b1fbf4",
   "metadata": {},
   "outputs": [],
   "source": [
    "from sklearn.preprocessing import PolynomialFeatures\n",
    "# Separate features and target variable\n",
    "X = df_encoded[['Ease of Online booking','Gate location','Food and drink','Leg room service','Baggage handling','Class_Eco']]\n",
    "y = df_encoded['satisfaction']\n",
    "\n",
    "# Split the data into training and test sets\n",
    "X_train, X_test, y_train, y_test = train_test_split(X, y, test_size=0.2, random_state=42)\n",
    "\n",
    "# Initialize PolynomialFeatures\n",
    "poly = PolynomialFeatures(degree=2, include_bias=False)\n",
    "\n",
    "# Fit and transform the training data\n",
    "X_train_poly = poly.fit_transform(X_train)\n",
    "\n",
    "# Transform the test data\n",
    "X_test_poly = poly.transform(X_test)\n",
    "\n",
    "# Initialize and train the XGBClassifier\n",
    "model = XGBClassifier(max_depth=10, n_estimators=200)\n",
    "model.fit(X_train_poly, y_train)\n",
    "\n",
    "# Save the model and the polynomial feature transformer\n",
    "# poly_f = joblib.dump(model,'Model_XGB.pkl')\n",
    "print(\"Model and transformer have been saved.\")\n"
   ]
  },
  {
   "cell_type": "code",
   "execution_count": null,
   "id": "c6ee79d1-380c-4dff-9874-10e8af77873b",
   "metadata": {},
   "outputs": [],
   "source": [
    "load = joblib.load('Poly_XGB.pkl')"
   ]
  },
  {
   "cell_type": "code",
   "execution_count": null,
   "id": "d84c61df-324d-4b7d-8c60-bb545018f557",
   "metadata": {},
   "outputs": [],
   "source": [
    "features = [3,\t1,\t4,\t3,\t2,\t0]"
   ]
  },
  {
   "cell_type": "code",
   "execution_count": null,
   "id": "ed1b7d17-bd8e-495e-ab90-7ba60da113fd",
   "metadata": {},
   "outputs": [],
   "source": [
    "features_poly = poly.transform(np.array(features).reshape(1, -1))\n",
    "prediction = load.predict(features_poly)\n",
    "print({'prediction': prediction[0]})"
   ]
  },
  {
   "cell_type": "code",
   "execution_count": null,
   "id": "f6c7573f-62dd-498b-8c5a-5c6f6b23fb8c",
   "metadata": {},
   "outputs": [],
   "source": []
  },
  {
   "cell_type": "code",
   "execution_count": null,
   "id": "35e0a672-51e6-4759-9ca8-c6e626dbfae5",
   "metadata": {},
   "outputs": [],
   "source": []
  },
  {
   "cell_type": "code",
   "execution_count": null,
   "id": "ce891b50-dfd9-4037-b1b4-fa24eedf35fe",
   "metadata": {},
   "outputs": [],
   "source": []
  },
  {
   "cell_type": "code",
   "execution_count": null,
   "id": "eca7d1b0-7cc2-4148-baec-50eaf39026f9",
   "metadata": {},
   "outputs": [],
   "source": []
  },
  {
   "cell_type": "code",
   "execution_count": null,
   "id": "2dc3efda-76df-439d-8c49-782d864ad6cc",
   "metadata": {},
   "outputs": [],
   "source": []
  },
  {
   "cell_type": "code",
   "execution_count": null,
   "id": "a317a42d-70d8-4ea6-a3cf-f80bcb90dfd7",
   "metadata": {},
   "outputs": [],
   "source": []
  },
  {
   "cell_type": "code",
   "execution_count": null,
   "id": "999369be-a076-4fee-857a-3cd660c84b8c",
   "metadata": {},
   "outputs": [],
   "source": []
  },
  {
   "cell_type": "code",
   "execution_count": null,
   "id": "808c9ee8-88fd-42ec-bcf5-8cecc8270bb6",
   "metadata": {},
   "outputs": [],
   "source": []
  },
  {
   "cell_type": "code",
   "execution_count": null,
   "id": "2bbb520d-a9fc-4062-88b0-bc79aee2a856",
   "metadata": {},
   "outputs": [],
   "source": []
  },
  {
   "cell_type": "code",
   "execution_count": null,
   "id": "7104433e-907d-434f-a142-90395f10818f",
   "metadata": {},
   "outputs": [],
   "source": []
  },
  {
   "cell_type": "code",
   "execution_count": null,
   "id": "4a7ae08c-5ea0-4236-915c-6fa9b097f515",
   "metadata": {},
   "outputs": [],
   "source": []
  },
  {
   "cell_type": "code",
   "execution_count": null,
   "id": "239dc059-9cfa-4577-9590-aea79ebf529f",
   "metadata": {},
   "outputs": [],
   "source": []
  }
 ],
 "metadata": {
  "kernelspec": {
   "display_name": "Python 3 (ipykernel)",
   "language": "python",
   "name": "python3"
  },
  "language_info": {
   "codemirror_mode": {
    "name": "ipython",
    "version": 3
   },
   "file_extension": ".py",
   "mimetype": "text/x-python",
   "name": "python",
   "nbconvert_exporter": "python",
   "pygments_lexer": "ipython3",
   "version": "3.12.5"
  }
 },
 "nbformat": 4,
 "nbformat_minor": 5
}
