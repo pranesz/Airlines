{
 "cells": [
  {
   "cell_type": "code",
   "execution_count": 1,
   "id": "99c50e35-dfb8-483c-95f5-055c1ca42f53",
   "metadata": {},
   "outputs": [],
   "source": [
    "import pandas as pd\n",
    "import numpy as np\n",
    "import matplotlib.pyplot as plt\n",
    "import tensorflow\n",
    "from sklearn.model_selection import train_test_split\n",
    "from sklearn.linear_model import LinearRegression\n",
    "from sklearn.metrics import mean_squared_error, r2_score, mean_absolute_error\n",
    "import seaborn as sns\n",
    "import joblib"
   ]
  },
  {
   "cell_type": "code",
   "execution_count": 2,
   "id": "063738f6-9778-4dc6-b705-e8321593be33",
   "metadata": {
    "scrolled": true
   },
   "outputs": [],
   "source": [
    "check = pd.read_csv('train.csv')"
   ]
  },
  {
   "cell_type": "code",
   "execution_count": 3,
   "id": "49ddf8f1-0001-42c0-b968-752688cf03ee",
   "metadata": {},
   "outputs": [],
   "source": [
    "# remove the columns full of null values\n",
    "data = check.dropna(axis=1)"
   ]
  },
  {
   "cell_type": "code",
   "execution_count": 4,
   "id": "1a95159b-1311-4650-9ce5-34283fd795f7",
   "metadata": {},
   "outputs": [
    {
     "data": {
      "text/plain": [
       "Unnamed: 0                           0\n",
       "id                                   0\n",
       "Gender                               0\n",
       "Customer Type                        0\n",
       "Age                                  0\n",
       "Type of Travel                       0\n",
       "Class                                0\n",
       "Flight Distance                      0\n",
       "Inflight wifi service                0\n",
       "Departure/Arrival time convenient    0\n",
       "Ease of Online booking               0\n",
       "Gate location                        0\n",
       "Food and drink                       0\n",
       "Online boarding                      0\n",
       "Seat comfort                         0\n",
       "Inflight entertainment               0\n",
       "On-board service                     0\n",
       "Leg room service                     0\n",
       "Baggage handling                     0\n",
       "Checkin service                      0\n",
       "Inflight service                     0\n",
       "Cleanliness                          0\n",
       "Departure Delay in Minutes           0\n",
       "satisfaction                         0\n",
       "dtype: int64"
      ]
     },
     "execution_count": 4,
     "metadata": {},
     "output_type": "execute_result"
    }
   ],
   "source": [
    "data.isnull().sum()"
   ]
  },
  {
   "cell_type": "code",
   "execution_count": 5,
   "id": "d3546a81-757d-481a-8099-9773ffbd94ef",
   "metadata": {},
   "outputs": [],
   "source": [
    "df_encoded = pd.get_dummies(data, columns=['Gender', 'Customer Type', 'Type of Travel', 'Class'], drop_first=True)"
   ]
  },
  {
   "cell_type": "code",
   "execution_count": 6,
   "id": "0f6947fc-f170-4867-af5b-2d2d17b7d751",
   "metadata": {},
   "outputs": [],
   "source": [
    "df_encoded['satisfaction'] = df_encoded['satisfaction'].map({\n",
    "    'satisfied':1,\n",
    "    'neutral or dissatisfied':0\n",
    "})\n",
    "df_encoded['Gender_Male'] = df_encoded['Gender_Male'].astype(int)\n",
    "df_encoded['Customer Type_disloyal Customer'] = df_encoded['Customer Type_disloyal Customer'].astype(int)\n",
    "df_encoded['Type of Travel_Personal Travel'] = df_encoded['Type of Travel_Personal Travel'].astype(int)\n",
    "df_encoded['Class_Eco'] = df_encoded['Class_Eco'].astype(int)\n",
    "df_encoded['Class_Eco Plus'] = df_encoded['Class_Eco Plus'].astype(int)"
   ]
  },
  {
   "cell_type": "code",
   "execution_count": 7,
   "id": "ba551ad1-2197-4523-9046-eebdab6920be",
   "metadata": {},
   "outputs": [],
   "source": [
    "from xgboost import XGBClassifier"
   ]
  },
  {
   "cell_type": "code",
   "execution_count": 8,
   "id": "660e98eb-a7de-4ffe-8d6a-809a34b1fbf4",
   "metadata": {},
   "outputs": [
    {
     "name": "stdout",
     "output_type": "stream",
     "text": [
      "Model and transformer have been saved.\n"
     ]
    }
   ],
   "source": [
    "from sklearn.preprocessing import PolynomialFeatures\n",
    "# Separate features and target variable\n",
    "X = df_encoded[['Ease of Online booking','Gate location','Food and drink','Leg room service','Baggage handling','Class_Eco']]\n",
    "y = df_encoded['satisfaction']\n",
    "\n",
    "# Split the data into training and test sets\n",
    "X_train, X_test, y_train, y_test = train_test_split(X, y, test_size=0.2, random_state=42)\n",
    "\n",
    "# Initialize PolynomialFeatures\n",
    "poly = PolynomialFeatures(degree=2, include_bias=False)\n",
    "\n",
    "# Fit and transform the training data\n",
    "X_train_poly = poly.fit_transform(X_train)\n",
    "\n",
    "# Transform the test data\n",
    "X_test_poly = poly.transform(X_test)\n",
    "\n",
    "# Initialize and train the XGBClassifier\n",
    "model = XGBClassifier(max_depth=10, n_estimators=200)\n",
    "model.fit(X_train_poly, y_train)\n",
    "\n",
    "# Save the model and the polynomial feature transformer\n",
    "# poly_f = joblib.dump(model,'Model_XGB.pkl')\n",
    "print(\"Model and transformer have been saved.\")\n"
   ]
  },
  {
   "cell_type": "code",
   "execution_count": 9,
   "id": "c6ee79d1-380c-4dff-9874-10e8af77873b",
   "metadata": {},
   "outputs": [],
   "source": [
    "load = joblib.load('Poly_XGB.pkl')"
   ]
  },
  {
   "cell_type": "code",
   "execution_count": 10,
   "id": "d84c61df-324d-4b7d-8c60-bb545018f557",
   "metadata": {},
   "outputs": [],
   "source": [
    "features = [3,\t1,\t4,\t3,\t2,\t0]"
   ]
  },
  {
   "cell_type": "code",
   "execution_count": 11,
   "id": "ed1b7d17-bd8e-495e-ab90-7ba60da113fd",
   "metadata": {},
   "outputs": [
    {
     "name": "stdout",
     "output_type": "stream",
     "text": [
      "{'prediction': 0}\n"
     ]
    },
    {
     "name": "stderr",
     "output_type": "stream",
     "text": [
      "C:\\Users\\HP\\AppData\\Local\\Programs\\Python\\Python312\\Lib\\site-packages\\sklearn\\base.py:493: UserWarning: X does not have valid feature names, but PolynomialFeatures was fitted with feature names\n",
      "  warnings.warn(\n"
     ]
    }
   ],
   "source": [
    "features_poly = poly.transform(np.array(features).reshape(1, -1))\n",
    "prediction = load.predict(features_poly)\n",
    "print({'prediction': prediction[0]})"
   ]
  }
 ],
 "metadata": {
  "kernelspec": {
   "display_name": "Python 3 (ipykernel)",
   "language": "python",
   "name": "python3"
  },
  "language_info": {
   "codemirror_mode": {
    "name": "ipython",
    "version": 3
   },
   "file_extension": ".py",
   "mimetype": "text/x-python",
   "name": "python",
   "nbconvert_exporter": "python",
   "pygments_lexer": "ipython3",
   "version": "3.12.5"
  }
 },
 "nbformat": 4,
 "nbformat_minor": 5
}
